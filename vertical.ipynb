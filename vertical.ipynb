{
  "nbformat": 4,
  "nbformat_minor": 0,
  "metadata": {
    "colab": {
      "provenance": []
    },
    "kernelspec": {
      "name": "python3",
      "display_name": "Python 3"
    },
    "language_info": {
      "name": "python"
    }
  },
  "cells": [
    {
      "cell_type": "code",
      "execution_count": 1,
      "metadata": {
        "id": "jB8PISkM7O2t"
      },
      "outputs": [],
      "source": [
        "#imports\n",
        "\n",
        "import numpy as np\n",
        "from scipy import signal\n",
        "import matplotlib.pyplot as plt\n",
        "import matplotlib"
      ]
    },
    {
      "cell_type": "code",
      "source": [
        "#values\n",
        "\n",
        "fs = 20e6  # sampling rate\n",
        "N = 1e5  # number of samples\n",
        "\n",
        "m = 300  # chirp slope\n",
        "b = 1  # chirp initial (angular) frequency\n",
        "\n",
        "t = np.arange(N) / float(fs) # make an array out of all samples\n",
        "w = m * t + b # variable for frequency related to time\n",
        "tx = np.cos(w * fs * t) # chirp signal\n",
        "tx[int(len(tx) / 2) :] = 0 # sample over time\n",
        "\n",
        "d = 100e3  # m                distance from transmitter\n",
        "c = 3e8  # m/s\n",
        "\n",
        "delay_s = 2 * d / c # delay in seconds (tau)\n",
        "delay_samps = int(delay_s * fs) # sample over time\n",
        "\n",
        "rx = np.roll(tx, delay_samps) # define rx as tx but delayed"
      ],
      "metadata": {
        "id": "FTFl8p4s-JGv"
      },
      "execution_count": 2,
      "outputs": []
    },
    {
      "cell_type": "code",
      "source": [
        "z = tx * np.conj(rx) # multiply tx by the complex conjugate\n",
        "\n",
        "freq = np.fft.fftfreq(z.shape[-1]) # take fourier transform of tx x rx*\n",
        "omega = 2 * np.pi * freq # definition of omega\n",
        "win = np.hanning(len(z)) # hanning window - smooth the values\n",
        "Z = np.fft.fft(win * z) # take FFT of hanning window\n",
        "\n",
        "plt.plot(omega, np.abs(Z))\n",
        "plt.xlabel(\"$\\omega$\")\n",
        "plt.ylabel(\"Z\")\n",
        "plt.title(\"FFT of $TX(t) \\cdot RX^*(t)$\")\n",
        "plt.show()"
      ],
      "metadata": {
        "colab": {
          "base_uri": "https://localhost:8080/",
          "height": 476
        },
        "id": "c1gzX4TCGTeJ",
        "outputId": "75d4ca86-a963-46b2-ed68-7b95c8d61830"
      },
      "execution_count": 3,
      "outputs": [
        {
          "output_type": "display_data",
          "data": {
            "text/plain": [
              "<Figure size 640x480 with 1 Axes>"
            ],
            "image/png": "[encoded data removed]"
          },
          "metadata": {}
        }
      ]
    },
    {
      "cell_type": "markdown",
      "source": [
        "Suppose we have signals TX (send) and RX (recieve), where RX is TX shifted by some phase shift tau. We take TX multiplied by RX* (compelex conjugate of RX), the product we will call z, and due to the nature of the signals, that must be a pure sinusoid with a single frequency w1. We take the fourier transform of that sinusoid, and get that max value to find the frequency w1. By definition (by math), tau = 2 w1 m. We solve for tau, and then we use speed of light to solve for d."
      ],
      "metadata": {
        "id": "LBpC-63uNLaF"
      }
    },
    {
      "cell_type": "code",
      "source": [
        "w_1 = abs(omega[np.argmax(np.abs(Z))]) # moyai\n",
        "tau_est = w_1 / (2 * m)\n",
        "d_est = c * tau_est / 2\n",
        "\n",
        "d_est"
      ],
      "metadata": {
        "colab": {
          "base_uri": "https://localhost:8080/"
        },
        "id": "GRx39CLbLuPe",
        "outputId": "d313d6ce-4cc1-4904-f396-ed2f974676ad"
      },
      "execution_count": 5,
      "outputs": [
        {
          "output_type": "execute_result",
          "data": {
            "text/plain": [
              "99996.89416376314"
            ]
          },
          "metadata": {},
          "execution_count": 5
        }
      ]
    }
  ]
}
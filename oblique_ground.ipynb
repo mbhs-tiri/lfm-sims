{
  "nbformat": 4,
  "nbformat_minor": 0,
  "metadata": {
    "colab": {
      "provenance": []
    },
    "kernelspec": {
      "name": "python3",
      "display_name": "Python 3"
    },
    "language_info": {
      "name": "python"
    }
  },
  "cells": [
    {
      "cell_type": "code",
      "execution_count": 2,
      "metadata": {
        "id": "EGLhLPZ_Ne_p"
      },
      "outputs": [],
      "source": [
        "#imports\n",
        "\n",
        "import numpy as np\n",
        "from scipy import signal\n",
        "import matplotlib.pyplot as plt\n",
        "import matplotlib"
      ]
    },
    {
      "cell_type": "markdown",
      "source": [
        "The below program attempts to simulate an oblique ionosonde sounding. In this simulation, d is the total flight distance of the LFM chirp, dx is the horizontal distance between the two receivers, and h is the virtual height of the reflection point. Curvature of the Earth is ignored, and it is assumed that this transmission is one-way."
      ],
      "metadata": {
        "id": "iygbomXAuTgx"
      }
    },
    {
      "cell_type": "code",
      "source": [
        "#values, set up the sim\n",
        "\n",
        "fs = 20e6  # sampling rate\n",
        "N = 1e5  # number of samples\n",
        "\n",
        "m = 300  # chirp slope\n",
        "b = 1  # chirp initial (angular) frequency\n",
        "\n",
        "t = np.arange(N) / float(fs) # make an array out of all samples\n",
        "w = m * t + b # variable for frequency related to time\n",
        "tx = np.cos(w * fs * t) # chirp signal\n",
        "tx[int(len(tx) / 2) :] = 0 # sample over time\n",
        "\n",
        "dx = 500e3  # m                distance from transmitter\n",
        "h = 100e3   # m                height above the ground (reflection point)\n",
        "# maybe account for curvature of the earth later on\n",
        "d = 2 * np.sqrt(h**2 + (dx/2)**2) # total signal flight distance\n",
        "c = 3e8  # m/s\n",
        "\n",
        "delay_s = d / c # delay in seconds (tau), no multiply by 2 since there are separate receivers\n",
        "delay_samps = int(delay_s * fs) # sample over time\n",
        "\n",
        "rx = np.roll(tx, delay_samps) # define rx as tx but delayed"
      ],
      "metadata": {
        "id": "CFITjl_0Onr7"
      },
      "execution_count": 3,
      "outputs": []
    },
    {
      "cell_type": "code",
      "source": [
        "z = tx * np.conj(rx) # multiply tx by the complex conjugate\n",
        "\n",
        "freq = np.fft.fftfreq(z.shape[-1]) # take fourier transform of tx x rx*\n",
        "omega = 2 * np.pi * freq # definition of omega\n",
        "win = np.hanning(len(z)) # hanning window - smooth the values\n",
        "Z = np.fft.fft(win * z) # take FFT of hanning window\n",
        "\n",
        "plt.plot(omega, np.abs(Z))\n",
        "plt.xlabel(\"$\\omega$\")\n",
        "plt.ylabel(\"Z\")\n",
        "plt.title(\"FFT of $TX(t) \\cdot RX^*(t)$\")\n",
        "plt.show()"
      ],
      "metadata": {
        "id": "Zuzd-6dbOtnm",
        "colab": {
          "base_uri": "https://localhost:8080/",
          "height": 476
        },
        "outputId": "9c13c198-2480-45a8-b517-cc4e8dc0331b"
      },
      "execution_count": 4,
      "outputs": [
        {
          "output_type": "display_data",
          "data": {
            "text/plain": [
              "<Figure size 640x480 with 1 Axes>"
            ],
            "image/png": "[encoded data removed]"
          },
          "metadata": {}
        }
      ]
    },
    {
      "cell_type": "code",
      "source": [
        "w_1 = abs(omega[np.argmax(np.abs(Z))])\n",
        "tau_est = w_1 / (2 * m)\n",
        "d_est = c * tau_est\n",
        "h_est = np.sqrt((d/2)**2 - (dx/2)**2)\n",
        "\n",
        "h_est"
      ],
      "metadata": {
        "colab": {
          "base_uri": "https://localhost:8080/"
        },
        "id": "UpY8PTl41uj9",
        "outputId": "e30ebaed-ee96-45d6-d4f6-bd772cf2ac1b"
      },
      "execution_count": 5,
      "outputs": [
        {
          "output_type": "execute_result",
          "data": {
            "text/plain": [
              "99999.99999999993"
            ]
          },
          "metadata": {},
          "execution_count": 5
        }
      ]
    }
  ]
}